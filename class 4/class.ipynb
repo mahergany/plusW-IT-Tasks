{
  "nbformat": 4,
  "nbformat_minor": 0,
  "metadata": {
    "colab": {
      "provenance": []
    },
    "kernelspec": {
      "name": "python3",
      "display_name": "Python 3"
    },
    "language_info": {
      "name": "python"
    }
  },
  "cells": [
    {
      "cell_type": "code",
      "execution_count": null,
      "metadata": {
        "colab": {
          "base_uri": "https://localhost:8080/"
        },
        "id": "IeO79BB07Y4k",
        "outputId": "050c4885-aaae-4888-9773-8b5f03bdb82e"
      },
      "outputs": [
        {
          "output_type": "stream",
          "name": "stdout",
          "text": [
            "5\n"
          ]
        }
      ],
      "source": [
        "def add(a,b):\n",
        "  return a+b\n",
        "\n",
        "def operate_numbers(f,a,b):\n",
        "  return f(a,b)\n",
        "\n",
        "result= operate_numbers(add,2,3)\n",
        "print(result)"
      ]
    },
    {
      "cell_type": "markdown",
      "source": [
        "Returning functions from other functions"
      ],
      "metadata": {
        "id": "TKNRFBBT7oPF"
      }
    },
    {
      "cell_type": "code",
      "source": [
        "def multiplier(factor):\n",
        "  def multiply(num):\n",
        "    return num*factor\n",
        "  return multiply\n",
        "\n",
        "double = multiplier(2)\n",
        "print(double(5))"
      ],
      "metadata": {
        "colab": {
          "base_uri": "https://localhost:8080/"
        },
        "id": "B6TQItNz7p_f",
        "outputId": "e7034d3f-af1a-46e0-ff5f-b72011c68fa2"
      },
      "execution_count": null,
      "outputs": [
        {
          "output_type": "stream",
          "name": "stdout",
          "text": [
            "10\n"
          ]
        }
      ]
    },
    {
      "cell_type": "markdown",
      "source": [
        "Recursive function"
      ],
      "metadata": {
        "id": "djWTy67Q8zS-"
      }
    },
    {
      "cell_type": "code",
      "source": [
        "def factorial(n):\n",
        "  if n == 1:\n",
        "    return 1\n",
        "  return n * factorial(n-1)\n",
        "\n",
        "print(factorial(5))"
      ],
      "metadata": {
        "colab": {
          "base_uri": "https://localhost:8080/"
        },
        "id": "mRvAmfiq8MMK",
        "outputId": "cf8445bd-93f2-4c08-bff3-8e5b3b5178c7"
      },
      "execution_count": null,
      "outputs": [
        {
          "output_type": "stream",
          "name": "stdout",
          "text": [
            "120\n"
          ]
        }
      ]
    },
    {
      "cell_type": "markdown",
      "source": [
        "Doc Strings"
      ],
      "metadata": {
        "id": "jzxbEdbq9RWy"
      }
    },
    {
      "cell_type": "code",
      "source": [
        "def calculator(values):\n",
        "  \"\"\" This function is used for calculations \"\"\"\n",
        "  pass"
      ],
      "metadata": {
        "id": "eBpAnq9B8-I_"
      },
      "execution_count": null,
      "outputs": []
    },
    {
      "cell_type": "code",
      "source": [
        "help(calculator)"
      ],
      "metadata": {
        "colab": {
          "base_uri": "https://localhost:8080/"
        },
        "id": "YtaYddSy9xP1",
        "outputId": "0fe540ff-dacf-47aa-cd2c-c3fdb30e3f07"
      },
      "execution_count": null,
      "outputs": [
        {
          "output_type": "stream",
          "name": "stdout",
          "text": [
            "Help on function calculator in module __main__:\n",
            "\n",
            "calculator(values)\n",
            "    This function is used for calculations\n",
            "\n"
          ]
        }
      ]
    },
    {
      "cell_type": "markdown",
      "source": [
        "Local and Global Variable Scope"
      ],
      "metadata": {
        "id": "MJZRs23393-X"
      }
    },
    {
      "cell_type": "code",
      "source": [
        "#Local Variable\n",
        "def calculator():\n",
        "  a=10\n",
        "  b=20\n",
        "  print(f\"The addition of the 2 numbers is: {a+b}\")\n",
        "\n",
        "calculator()"
      ],
      "metadata": {
        "colab": {
          "base_uri": "https://localhost:8080/"
        },
        "id": "jl3AJnY-91Uh",
        "outputId": "7c9b8f4b-be18-4efc-fdcc-c8698d94b4ad"
      },
      "execution_count": null,
      "outputs": [
        {
          "output_type": "stream",
          "name": "stdout",
          "text": [
            "The addition of the 2 numbers is: 30\n"
          ]
        }
      ]
    },
    {
      "cell_type": "code",
      "source": [
        "#Global Variable\n",
        "\n",
        "a=10\n",
        "b=20\n",
        "def calculator():\n",
        "  global a #modification of global variable\n",
        "  a = 20\n",
        "  print(f\"The addition of the 2 numbers is: {a+b}\")\n",
        "\n",
        "calculator()"
      ],
      "metadata": {
        "colab": {
          "base_uri": "https://localhost:8080/"
        },
        "id": "EVer9Oxb_Eyz",
        "outputId": "4c71bf11-01b6-416c-b864-ee882d68efff"
      },
      "execution_count": null,
      "outputs": [
        {
          "output_type": "stream",
          "name": "stdout",
          "text": [
            "The addition of the 2 numbers is: 40\n"
          ]
        }
      ]
    },
    {
      "cell_type": "markdown",
      "source": [
        "Variables in inner functions"
      ],
      "metadata": {
        "id": "djsT1dtC_qnr"
      }
    },
    {
      "cell_type": "code",
      "source": [
        "def outer():\n",
        "  x = 5\n",
        "  def inner():\n",
        "    nonlocal x\n",
        "    x=10\n",
        "\n",
        "  inner()\n",
        "  print(\"Outer function x value is\", x)\n",
        "\n",
        "outer()"
      ],
      "metadata": {
        "colab": {
          "base_uri": "https://localhost:8080/"
        },
        "id": "tykcWL63_O3l",
        "outputId": "102b1154-167e-4e5b-977e-1b5adc7c812e"
      },
      "execution_count": null,
      "outputs": [
        {
          "output_type": "stream",
          "name": "stdout",
          "text": [
            "Outer function x value is 10\n"
          ]
        }
      ]
    },
    {
      "cell_type": "markdown",
      "source": [
        "## Numpy"
      ],
      "metadata": {
        "id": "n9XqBBr2BC5n"
      }
    },
    {
      "cell_type": "code",
      "source": [
        "pip install numpy"
      ],
      "metadata": {
        "colab": {
          "base_uri": "https://localhost:8080/"
        },
        "id": "rZUzb1Ko_8S8",
        "outputId": "259fbf02-b7f7-4a43-9873-9de570a96769"
      },
      "execution_count": null,
      "outputs": [
        {
          "output_type": "stream",
          "name": "stdout",
          "text": [
            "Requirement already satisfied: numpy in /usr/local/lib/python3.11/dist-packages (1.26.4)\n"
          ]
        }
      ]
    },
    {
      "cell_type": "code",
      "source": [
        "import numpy as np"
      ],
      "metadata": {
        "id": "qS-Los19BE5_"
      },
      "execution_count": null,
      "outputs": []
    },
    {
      "cell_type": "code",
      "source": [
        "py_list = [1,2,3,4,5]\n",
        "np_array = np.array([1,2,3,4,5])\n",
        "\n",
        "print(type(py_list))\n",
        "print(type(np_array))"
      ],
      "metadata": {
        "colab": {
          "base_uri": "https://localhost:8080/"
        },
        "id": "TMaYn7OxBHng",
        "outputId": "be13725a-2d16-4b2a-cc75-771dedddd894"
      },
      "execution_count": null,
      "outputs": [
        {
          "output_type": "stream",
          "name": "stdout",
          "text": [
            "<class 'list'>\n",
            "<class 'numpy.ndarray'>\n"
          ]
        }
      ]
    },
    {
      "cell_type": "code",
      "source": [],
      "metadata": {
        "id": "DeBLAgVPBg98"
      },
      "execution_count": null,
      "outputs": []
    }
  ]
}