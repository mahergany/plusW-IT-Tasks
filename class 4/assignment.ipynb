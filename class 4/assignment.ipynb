{
 "cells": [
  {
   "cell_type": "markdown",
   "metadata": {},
   "source": [
    "# Task 1:"
   ]
  },
  {
   "cell_type": "markdown",
   "metadata": {},
   "source": [
    "Given code:"
   ]
  },
  {
   "cell_type": "code",
   "execution_count": 1,
   "metadata": {},
   "outputs": [],
   "source": [
    "import numpy as np"
   ]
  },
  {
   "cell_type": "code",
   "execution_count": 2,
   "metadata": {},
   "outputs": [],
   "source": [
    "arr_1d = np.array([1, 2, 3, 4, 5]) \n",
    "arr_2d = np.array([[1, 2, 3], [4, 5, 6], [7, 8, 9]])"
   ]
  },
  {
   "cell_type": "code",
   "execution_count": 5,
   "metadata": {},
   "outputs": [
    {
     "name": "stdout",
     "output_type": "stream",
     "text": [
      "1D Array: [1 2 3 4 5]\n",
      "2D Array:\n",
      " [[1 2 3]\n",
      " [4 5 6]\n",
      " [7 8 9]]\n",
      "Sum of 1D Array: 15\n",
      "Mean of 2D Array: 5.0\n",
      "Transpose of 2D Array:\n",
      " [[1 4 7]\n",
      " [2 5 8]\n",
      " [3 6 9]]\n"
     ]
    }
   ],
   "source": [
    "print(\"1D Array:\", arr_1d) \n",
    "print(\"2D Array:\\n\", arr_2d)\n",
    "\n",
    "print(\"Sum of 1D Array:\", np.sum(arr_1d)) \n",
    "print(\"Mean of 2D Array:\", np.mean(arr_2d)) \n",
    "print(\"Transpose of 2D Array:\\n\", arr_2d.T)"
   ]
  },
  {
   "cell_type": "markdown",
   "metadata": {},
   "source": [
    "Task:"
   ]
  },
  {
   "cell_type": "code",
   "execution_count": 9,
   "metadata": {},
   "outputs": [
    {
     "name": "stdout",
     "output_type": "stream",
     "text": [
      "1D Array: [1 2 3 4 5]\n",
      "2D Array:\n",
      " [[1 2 3]\n",
      " [4 5 6]\n",
      " [7 8 9]]\n",
      "Sum of 1D Array: 15\n",
      "Mean of 2D Array: 5.0\n",
      "Transpose of 2D Array:\n",
      " [[1 4 7]\n",
      " [2 5 8]\n",
      " [3 6 9]]\n"
     ]
    }
   ],
   "source": [
    "arr_1d = np.array([1, 2, 3, 4, 5]) \n",
    "arr_2d = np.array([[1, 2, 3], [4, 5, 6], [7, 8, 9]])\n",
    "\n",
    "def array_operations():\n",
    "    global arr_1d, arr_2d\n",
    "\n",
    "    print(\"1D Array:\", arr_1d) \n",
    "    print(\"2D Array:\\n\", arr_2d)\n",
    "\n",
    "    print(\"Sum of 1D Array:\", np.sum(arr_1d)) \n",
    "    print(\"Mean of 2D Array:\", np.mean(arr_2d)) \n",
    "    print(\"Transpose of 2D Array:\\n\", arr_2d.T)\n",
    "\n",
    "array_operations()"
   ]
  },
  {
   "cell_type": "markdown",
   "metadata": {},
   "source": [
    "# Task 2"
   ]
  },
  {
   "cell_type": "code",
   "execution_count": 10,
   "metadata": {},
   "outputs": [
    {
     "name": "stdout",
     "output_type": "stream",
     "text": [
      "Original Image:\n",
      " [[217 239 193 125   6]\n",
      " [172  86 212 222  19]\n",
      " [ 41 227 202 179 101]\n",
      " [ 90 153 187 201  90]\n",
      " [ 99  69  87 241 222]]\n",
      "Cropped Section:\n",
      " [[ 86 212 222]\n",
      " [227 202 179]\n",
      " [153 187 201]]\n",
      "Inverted Image:\n",
      " [[ 38  16  62 130 249]\n",
      " [ 83 169  43  33 236]\n",
      " [214  28  53  76 154]\n",
      " [165 102  68  54 165]\n",
      " [156 186 168  14  33]]\n"
     ]
    }
   ],
   "source": [
    "# Creating a grayscale image using a 2D NumPy array \n",
    "image = np.random.randint(0, 256, (5, 5), dtype=np.uint8) \n",
    "\n",
    "print(\"Original Image:\\n\", image) \n",
    "\n",
    "# Slicing a portion of the image \n",
    "cropped = image[1:4, 1:4] \n",
    "print(\"Cropped Section:\\n\", cropped) \n",
    "\n",
    "# Inverting colors \n",
    "inverted_image = 255 - image \n",
    "print(\"Inverted Image:\\n\", inverted_image)"
   ]
  },
  {
   "cell_type": "markdown",
   "metadata": {},
   "source": [
    "Task:"
   ]
  },
  {
   "cell_type": "code",
   "execution_count": 11,
   "metadata": {},
   "outputs": [
    {
     "name": "stdout",
     "output_type": "stream",
     "text": [
      "Original Image:\n",
      " [[ 36  69 201 177  51]\n",
      " [131 248 201  95  96]\n",
      " [222  68 243 167 112]\n",
      " [112  46 128  84 181]\n",
      " [ 23 203 205 201  14]]\n",
      "Cropped Section:\n",
      " [[248 201  95]\n",
      " [ 68 243 167]\n",
      " [ 46 128  84]]\n",
      "Inverted Image:\n",
      " [[219 186  54  78 204]\n",
      " [124   7  54 160 159]\n",
      " [ 33 187  12  88 143]\n",
      " [143 209 127 171  74]\n",
      " [232  52  50  54 241]]\n"
     ]
    }
   ],
   "source": [
    "def image_processing():\n",
    "    image = np.random.randint(0, 256, (5, 5), dtype=np.uint8) \n",
    "\n",
    "    print(\"Original Image:\\n\", image) \n",
    "\n",
    "    cropped = image[1:4, 1:4] \n",
    "    print(\"Cropped Section:\\n\", cropped) \n",
    "\n",
    "    inverted_image = 255 - image \n",
    "    print(\"Inverted Image:\\n\", inverted_image)\n",
    "    \n",
    "image_processing()"
   ]
  },
  {
   "cell_type": "markdown",
   "metadata": {},
   "source": [
    "# Task 3:"
   ]
  },
  {
   "cell_type": "code",
   "execution_count": null,
   "metadata": {},
   "outputs": [],
   "source": [
    "import numpy as np \n",
    "import cv2 \n",
    "# Load an image\n",
    "image = cv2.imread('image.jpg') #Use your own image \n",
    "# Scaling Transformation\n",
    "def scale_image(image, scale_factor): \n",
    "    # Create the scaling matrix \n",
    "    scaling_matrix = np.array([[scale_factor, 0, 0], [0, scale_factor, 0], [0, 0, 1]]) \n",
    "    # Get the image dimensions \n",
    "    rows, cols = image.shape[:2] \n",
    "    # Apply the transformation \n",
    "    scaled_image = cv2.warpPerspective(image, scaling_matrix, (cols, rows)) \n",
    "    return scaled_image \n",
    "# Rotation Transformation \n",
    "def rotate_image(image, angle): \n",
    "    # Get the image dimensions \n",
    "    rows, cols = image.shape[:2] \n",
    "    # Get the rotation matrix \n",
    "    rotation_matrix = cv2.getRotationMatrix2D((cols / 2, rows / 2), angle, 1) \n",
    "    # Apply the rotation \n",
    "    rotated_image = cv2.warpAffine(image, rotation_matrix, (cols, rows)) \n",
    "    return rotated_image # Translation Transformation def translate_image(image, tx, ty): # Create the translation matrix translation_matrix = np.array([[1, 0, tx], [0, 1, ty], [0, 0, 1]]) # Get the image dimensions rows, cols = image.shape[:2] # Apply the transformation translated_image = cv2.warpPerspective(image, translation_matrix, (cols, rows)) return translated_image # Example transformations\n",
    "scaled_image = scale_image(image, 1.5) # Scale by a factor of 1.5 rotated_image = rotate_image(image, 45) # Rotate by 45 degrees translated_image = translate_image(image, 50, 30) # Translate by 50 pixels along x and 30 pixels along y # Show the results cv2.imshow('Original', image) cv2.imshow('Scaled', scaled_image) cv2.imshow('Rotated', rotated_image) cv2.imshow('Translated', translated_image) cv2.waitKey(0) cv2.destroyAllWindows()"
   ]
  }
 ],
 "metadata": {
  "kernelspec": {
   "display_name": "base",
   "language": "python",
   "name": "python3"
  },
  "language_info": {
   "codemirror_mode": {
    "name": "ipython",
    "version": 3
   },
   "file_extension": ".py",
   "mimetype": "text/x-python",
   "name": "python",
   "nbconvert_exporter": "python",
   "pygments_lexer": "ipython3",
   "version": "3.11.7"
  }
 },
 "nbformat": 4,
 "nbformat_minor": 2
}
