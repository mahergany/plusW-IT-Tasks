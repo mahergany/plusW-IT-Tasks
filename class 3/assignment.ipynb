{
 "cells": [
  {
   "cell_type": "markdown",
   "metadata": {},
   "source": [
    "## Task 1 - Name Formatter and Length Calculator"
   ]
  },
  {
   "cell_type": "code",
   "execution_count": 1,
   "metadata": {},
   "outputs": [
    {
     "name": "stdout",
     "output_type": "stream",
     "text": [
      "First name (upper): MAHEEN\n",
      "Last name (lower): ahmed\n",
      "Sum of letters in your first and last name: 11\n"
     ]
    }
   ],
   "source": [
    "first_name = input(\"Enter your first name: \") \n",
    "last_name = input(\"Enter your last name: \")\n",
    "\n",
    "first_name = first_name.upper()\n",
    "last_name = last_name.lower()\n",
    "total_letters = len(first_name) + len(last_name)\n",
    "\n",
    "print(f\"First name (upper): {first_name}\") \n",
    "print(f\"Last name (lower): {last_name}\") \n",
    "print(\"Sum of letters in your first and last name:\", total_letters)"
   ]
  },
  {
   "cell_type": "markdown",
   "metadata": {},
   "source": [
    "## Task 2 - Simple Area Calculator for Various Shapes"
   ]
  },
  {
   "cell_type": "code",
   "execution_count": 2,
   "metadata": {},
   "outputs": [],
   "source": [
    "import math"
   ]
  },
  {
   "cell_type": "code",
   "execution_count": 3,
   "metadata": {},
   "outputs": [
    {
     "name": "stdout",
     "output_type": "stream",
     "text": [
      "Calculate the area of following shapes:\n",
      "1. Circle\n",
      "2. Rectangle\n",
      "3. Square\n",
      "4. Triangle\n",
      "\n",
      "All the areas are:\n",
      "The area of the circle is: 28.274333882308138\n",
      "The area of the rectangle is: 12.0\n",
      "The area of the square is: 9.0\n",
      "The area of the triangle is: 2.5\n"
     ]
    }
   ],
   "source": [
    "print(\"Calculate the area of following shapes:\") \n",
    "print(\"1. Circle\") \n",
    "print(\"2. Rectangle\") \n",
    "print(\"3. Square\") \n",
    "print(\"4. Triangle\") \n",
    "\n",
    "#circle\n",
    "radius = float(input(\"Enter the radius of the circle: \"))\n",
    "circle_area = math.pi * radius ** 2\n",
    "\n",
    "#rectangle\n",
    "length = float(input(\"Enter the length of the rectangle: \"))\n",
    "width = float(input(\"Enter the width of the rectangle: \"))\n",
    "rectangle_area = length * width\n",
    "\n",
    "#square\n",
    "side = float(input(\"Enter the side length of the square: \"))\n",
    "square_area = side ** 2\n",
    "\n",
    "#triangle\n",
    "base = float(input(\"Enter the base of the triangle: \"))\n",
    "height = float(input(\"Enter the height of the triangle: \"))\n",
    "triangle_area = 0.5 * base * height\n",
    "\n",
    "print(\"\\nAll the areas are:\")\n",
    "print(\"The area of the circle is:\", circle_area)\n",
    "print(\"The area of the rectangle is:\", rectangle_area)\n",
    "print(\"The area of the square is:\", square_area)\n",
    "print(\"The area of the triangle is:\", triangle_area)"
   ]
  },
  {
   "cell_type": "markdown",
   "metadata": {},
   "source": [
    "## Task 3 - Based Password Generator"
   ]
  },
  {
   "cell_type": "code",
   "execution_count": 4,
   "metadata": {},
   "outputs": [
    {
     "name": "stdout",
     "output_type": "stream",
     "text": [
      "Selected Color: red\n",
      "Generated Password: der\n"
     ]
    }
   ],
   "source": [
    "import random\n",
    "\n",
    "colors = [\"red\", \"blue\", \"green\", \"yellow\", \"orange\", \"purple\"]\n",
    "\n",
    "index = random.randint(0, len(colors) - 1)\n",
    "selected_color = colors[index]\n",
    "password = selected_color[::-1]\n",
    "\n",
    "print(\"Selected Color:\", selected_color)\n",
    "print(\"Generated Password:\", password)"
   ]
  }
 ],
 "metadata": {
  "kernelspec": {
   "display_name": "base",
   "language": "python",
   "name": "python3"
  },
  "language_info": {
   "codemirror_mode": {
    "name": "ipython",
    "version": 3
   },
   "file_extension": ".py",
   "mimetype": "text/x-python",
   "name": "python",
   "nbconvert_exporter": "python",
   "pygments_lexer": "ipython3",
   "version": "3.11.7"
  }
 },
 "nbformat": 4,
 "nbformat_minor": 2
}
