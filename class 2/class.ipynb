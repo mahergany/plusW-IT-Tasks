{
 "cells": [
  {
   "cell_type": "markdown",
   "metadata": {},
   "source": [
    "Indentation and Comments"
   ]
  },
  {
   "cell_type": "code",
   "execution_count": 2,
   "metadata": {},
   "outputs": [
    {
     "name": "stdout",
     "output_type": "stream",
     "text": [
      "This is my second class of Python language\n"
     ]
    }
   ],
   "source": [
    "if True:\n",
    "  print(\"This is my second class of Python language\")\n",
    "\n",
    "# if True: clt + /\n",
    "# print(\"This is my second class of Python language\")"
   ]
  },
  {
   "cell_type": "markdown",
   "metadata": {},
   "source": [
    "Variables and Constants"
   ]
  },
  {
   "cell_type": "code",
   "execution_count": 3,
   "metadata": {},
   "outputs": [
    {
     "name": "stdout",
     "output_type": "stream",
     "text": [
      "My name is Maheen\n",
      "My age is 20\n",
      "3.14159\n"
     ]
    }
   ],
   "source": [
    "name = \"Maheen\"\n",
    "age = 20\n",
    "\n",
    "PI = 3.14159\n",
    "\n",
    "print(\"My name is\", name)\n",
    "print(\"My age is\", age)\n",
    "\n",
    "print(PI)"
   ]
  },
  {
   "cell_type": "markdown",
   "metadata": {},
   "source": [
    "Input/Output"
   ]
  },
  {
   "cell_type": "code",
   "execution_count": 4,
   "metadata": {},
   "outputs": [
    {
     "name": "stdout",
     "output_type": "stream",
     "text": [
      "My name is Maheen\n",
      "<class 'str'>\n"
     ]
    }
   ],
   "source": [
    "name = input(\"Enter your name: \")\n",
    "print(\"My name is\", name)\n",
    "\n",
    "print(type(name))"
   ]
  },
  {
   "cell_type": "markdown",
   "metadata": {},
   "source": [
    "Data Types"
   ]
  },
  {
   "cell_type": "code",
   "execution_count": 5,
   "metadata": {},
   "outputs": [
    {
     "name": "stdout",
     "output_type": "stream",
     "text": [
      "Real number is, 4.0\n",
      "Imaginary number 3.0\n"
     ]
    }
   ],
   "source": [
    "#primitive\n",
    "x = 10\n",
    "y = 10.01\n",
    "z = 4 + 3j\n",
    "\n",
    "print(\"Real number is,\", z.real)\n",
    "print(\"Imaginary number\", z.imag)"
   ]
  },
  {
   "cell_type": "code",
   "execution_count": 9,
   "metadata": {},
   "outputs": [
    {
     "name": "stdout",
     "output_type": "stream",
     "text": [
      "PythonLanguage\n",
      "PythonPythonPython\n",
      "Sliced String: This\n",
      "Sliced String: This is my second class\n",
      "Lower case this is my second class of python language\n",
      "Upper case THIS IS MY SECOND CLASS OF PYTHON LANGUAGE\n",
      "replace This is my second class of C++ language\n"
     ]
    }
   ],
   "source": [
    "#string\n",
    "\n",
    "sentence = \"This is my second class of Python language\"\n",
    "first_letter = sentence[0]\n",
    "letter_p = sentence[-15]\n",
    "\n",
    "concat = \"Python\" + \"Language\"\n",
    "print(concat)\n",
    "\n",
    "repeat = 'Python'*3\n",
    "print(repeat)\n",
    "\n",
    "print(\"Sliced String:\",sentence[0:4])\n",
    "print(\"Sliced String:\",sentence[0:23])\n",
    "\n",
    "print(\"Lower case\", sentence.lower())\n",
    "print(\"Upper case\", sentence.upper())\n",
    "\n",
    "print(\"replace\", sentence.replace(\"Python\", \"C++\"))"
   ]
  },
  {
   "cell_type": "code",
   "execution_count": 11,
   "metadata": {},
   "outputs": [
    {
     "name": "stdout",
     "output_type": "stream",
     "text": [
      "[1, 2, 3, 4, 5, 6]\n",
      "[1, 2, 3]\n"
     ]
    }
   ],
   "source": [
    "#collect\n",
    "\n",
    "numbers = [1,2,3,4,5]\n",
    "numbers.append(6)\n",
    "print(numbers)\n",
    "\n",
    "print(numbers[:3])"
   ]
  },
  {
   "cell_type": "code",
   "execution_count": 12,
   "metadata": {},
   "outputs": [
    {
     "name": "stdout",
     "output_type": "stream",
     "text": [
      "(1, 2, 3, 4, 5)\n"
     ]
    }
   ],
   "source": [
    "numbers = (1,2,3,4,5)\n",
    "print(numbers)"
   ]
  },
  {
   "cell_type": "code",
   "execution_count": 13,
   "metadata": {},
   "outputs": [
    {
     "name": "stdout",
     "output_type": "stream",
     "text": [
      "{1, 2, 3, 4, 5}\n"
     ]
    }
   ],
   "source": [
    "#sets\n",
    "\n",
    "numbers = {1,2,3,4,5}\n",
    "numbers.add(5)\n",
    "print(numbers)"
   ]
  },
  {
   "cell_type": "code",
   "execution_count": 15,
   "metadata": {},
   "outputs": [
    {
     "name": "stdout",
     "output_type": "stream",
     "text": [
      "{'name': 'Maheen'}\n",
      "{'name': 'Eashah'}\n",
      "{'name': 'Eashah', 'age': 21}\n"
     ]
    }
   ],
   "source": [
    "#dictionary\n",
    "\n",
    "student = {\"name\": \"Maheen\"}\n",
    "print(student)\n",
    "\n",
    "student['name'] = \"Eashah\"\n",
    "print(student)\n",
    "\n",
    "student['age'] = 21\n",
    "print(student)"
   ]
  },
  {
   "cell_type": "code",
   "execution_count": 16,
   "metadata": {},
   "outputs": [
    {
     "name": "stdout",
     "output_type": "stream",
     "text": [
      "20.009999999999998\n",
      "<class 'float'>\n"
     ]
    }
   ],
   "source": [
    "#implicit conversion\n",
    "\n",
    "num1 = 10\n",
    "num2 = 10.01\n",
    "result  = num1 + num2\n",
    "\n",
    "print(result)\n",
    "print(type(result))"
   ]
  },
  {
   "cell_type": "code",
   "execution_count": 17,
   "metadata": {},
   "outputs": [
    {
     "name": "stdout",
     "output_type": "stream",
     "text": [
      "<class 'int'>\n",
      "36\n"
     ]
    }
   ],
   "source": [
    "#explicit conversion\n",
    "\n",
    "age = \"26\"\n",
    "integer = 10\n",
    "\n",
    "age = int(age)\n",
    "# integer = str(integer)\n",
    "# float(age)\n",
    "print(type(age))\n",
    "\n",
    "result = age + integer\n",
    "print(result)"
   ]
  },
  {
   "cell_type": "markdown",
   "metadata": {},
   "source": [
    "Operators"
   ]
  },
  {
   "cell_type": "code",
   "execution_count": 18,
   "metadata": {},
   "outputs": [
    {
     "name": "stdout",
     "output_type": "stream",
     "text": [
      "Addition: 14\n",
      "Subtraction: 6\n",
      "Multiplication: 40\n",
      "Division: 2.5\n",
      "Floor Division 2\n",
      "Modulus 2\n",
      "Exponent 10000\n"
     ]
    }
   ],
   "source": [
    "#arithmetic operators\n",
    "\n",
    "num1 = 10\n",
    "num2 = 4\n",
    "\n",
    "print(\"Addition:\", num1 + num2)\n",
    "print(\"Subtraction:\", num1 - num2)\n",
    "print(\"Multiplication:\", num1 * num2)\n",
    "print(\"Division:\", num1 / num2)\n",
    "print(\"Floor Division\", num1 // num2)\n",
    "print(\"Modulus\", num1 % num2)\n",
    "print(\"Exponent\", num1 ** num2)"
   ]
  },
  {
   "cell_type": "code",
   "execution_count": 19,
   "metadata": {},
   "outputs": [
    {
     "name": "stdout",
     "output_type": "stream",
     "text": [
      "Equal False\n",
      "Not Equal True\n",
      "Greater than True\n",
      "Less than False\n"
     ]
    }
   ],
   "source": [
    "#comparison Operation\n",
    "\n",
    "num1 = 10\n",
    "num2 = 4\n",
    "\n",
    "print(\"Equal\", num1 == num2)\n",
    "print(\"Not Equal\", num1 != num2)\n",
    "print(\"Greater than\", num1 > num2)\n",
    "print(\"Less than\", num1 < num2)\n",
    "# print(\"Floor Division\", num1 // num2)\n",
    "# print(\"Modulus\", num1 % num2)\n",
    "# print(\"Exponent\", num1 ** num2)"
   ]
  },
  {
   "cell_type": "code",
   "execution_count": 20,
   "metadata": {},
   "outputs": [
    {
     "name": "stdout",
     "output_type": "stream",
     "text": [
      "AND False\n",
      "OR True\n",
      "NOT False\n"
     ]
    }
   ],
   "source": [
    "#logical Operators\n",
    "p = True\n",
    "q= False\n",
    "\n",
    "print(\"AND\", p and q)\n",
    "print(\"OR\", p or q)\n",
    "print(\"NOT\", not p)"
   ]
  },
  {
   "cell_type": "code",
   "execution_count": 21,
   "metadata": {},
   "outputs": [
    {
     "name": "stdout",
     "output_type": "stream",
     "text": [
      "10.0\n"
     ]
    }
   ],
   "source": [
    "#assignment Operators\n",
    "a=10\n",
    "a+=5 #a=a+5\n",
    "a-=5 #a=a-5\n",
    "a*=5 #a=a*5\n",
    "a/=5 #a=a/5\n",
    "print(a)"
   ]
  },
  {
   "cell_type": "markdown",
   "metadata": {},
   "source": [
    "Length Function"
   ]
  },
  {
   "cell_type": "code",
   "execution_count": 22,
   "metadata": {},
   "outputs": [
    {
     "name": "stdout",
     "output_type": "stream",
     "text": [
      "6\n"
     ]
    }
   ],
   "source": [
    "#length Function\n",
    "sentence = \"Python\"\n",
    "print(len(sentence))"
   ]
  },
  {
   "cell_type": "markdown",
   "metadata": {},
   "source": [
    "Split function"
   ]
  },
  {
   "cell_type": "code",
   "execution_count": 23,
   "metadata": {},
   "outputs": [
    {
     "name": "stdout",
     "output_type": "stream",
     "text": [
      "['Python', 'language']\n"
     ]
    }
   ],
   "source": [
    "#split function\n",
    "sentence = \"Python:language\"\n",
    "print(sentence.split(':'))"
   ]
  },
  {
   "cell_type": "markdown",
   "metadata": {},
   "source": [
    "Random function"
   ]
  },
  {
   "cell_type": "code",
   "execution_count": 24,
   "metadata": {},
   "outputs": [
    {
     "name": "stdout",
     "output_type": "stream",
     "text": [
      "10\n",
      "0.11055118944095876\n",
      "6\n",
      "Bananas\n"
     ]
    }
   ],
   "source": [
    "#random function\n",
    "import random\n",
    "\n",
    "print(random.randint(1,10))\n",
    "print(random.random())\n",
    "print(random.randint(1,10))\n",
    "\n",
    "items = ['Apple', \"Bananas\"]\n",
    "print(random.choice(items))"
   ]
  },
  {
   "cell_type": "code",
   "execution_count": null,
   "metadata": {},
   "outputs": [],
   "source": []
  }
 ],
 "metadata": {
  "kernelspec": {
   "display_name": "base",
   "language": "python",
   "name": "python3"
  },
  "language_info": {
   "codemirror_mode": {
    "name": "ipython",
    "version": 3
   },
   "file_extension": ".py",
   "mimetype": "text/x-python",
   "name": "python",
   "nbconvert_exporter": "python",
   "pygments_lexer": "ipython3",
   "version": "3.11.7"
  }
 },
 "nbformat": 4,
 "nbformat_minor": 2
}
